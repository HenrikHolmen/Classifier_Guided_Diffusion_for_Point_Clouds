{
 "cells": [
  {
   "cell_type": "markdown",
   "metadata": {},
   "source": [
    "## CHATGPT HISTORY"
   ]
  },
  {
   "cell_type": "markdown",
   "metadata": {},
   "source": [
    "#### C0"
   ]
  },
  {
   "cell_type": "markdown",
   "metadata": {},
   "source": [
    "<img src= \"img/2024-02-26-16-13-10.png\" style=\"width:50rem;\">\n",
    "<br>\n",
    "<img src= \"img/2024-02-26-16-17-48.png\" style=\"width:50rem;\">\n",
    "<br>\n",
    "<img src= \"img/2024-02-26-16-18-51.png\" style=\"width:50rem;\">\n",
    "<br>\n",
    "<img src= \"img/2024-02-26-16-19-36.png\" style=\"width:50rem;\">\n",
    "<br>\n",
    "<img src= \"img/2024-02-26-16-20-23.png\" style=\"width:50rem;\">\n",
    "<br>\n",
    "<img src= \"img/2024-02-26-16-20-50.png\" style=\"width:50rem;\">\n",
    "<br>\n",
    "<img src= \"img/2024-02-26-16-21-07.png\" style=\"width:50rem;\">"
   ]
  },
  {
   "cell_type": "markdown",
   "metadata": {},
   "source": [
    "#### C1"
   ]
  },
  {
   "cell_type": "markdown",
   "metadata": {},
   "source": [
    "<img src= \"img/2024-02-26-16-08-41.png\" style=\"width:50rem;\">\n",
    "<br>\n",
    "<img src= \"img/2024-02-26-16-09-31.png\" style=\"width:50rem;\">\n",
    "<br>\n",
    "<img src= \"img/2024-02-26-16-10-10.png\" style=\"width:50rem;\">\n",
    "<br>\n",
    "<img src= \"img/2024-02-26-16-10-45.png\" style=\"width:50rem;\">\n",
    "<br>\n",
    "<img src= \"img/2024-02-26-16-11-10.png\" style=\"width:50rem;\">"
   ]
  },
  {
   "cell_type": "markdown",
   "metadata": {},
   "source": [
    "#### C2"
   ]
  },
  {
   "cell_type": "markdown",
   "metadata": {},
   "source": [
    "## BING COPILOT HISTORY"
   ]
  },
  {
   "cell_type": "markdown",
   "metadata": {},
   "source": [
    "#### BC0"
   ]
  },
  {
   "cell_type": "markdown",
   "metadata": {},
   "source": [
    "<img src= \"img/More%20to%20come...png\" style=\"width:50rem;\">\n",
    "<br>\n",
    "<img src= \"img/2024-02-26-16-24-50.png\" style=\"width:50rem;\">"
   ]
  },
  {
   "cell_type": "markdown",
   "metadata": {},
   "source": [
    "#### BC1"
   ]
  },
  {
   "cell_type": "markdown",
   "metadata": {},
   "source": []
  }
 ],
 "metadata": {
  "language_info": {
   "name": "python"
  }
 },
 "nbformat": 4,
 "nbformat_minor": 2
}
