{
 "cells": [
  {
   "cell_type": "markdown",
   "metadata": {},
   "source": [
    "## CHATGPT HISTORY"
   ]
  },
  {
   "cell_type": "markdown",
   "metadata": {},
   "source": [
    "#### C0"
   ]
  },
  {
   "cell_type": "markdown",
   "metadata": {},
   "source": [
    "<img src= \"img/2024-02-26-16-13-10.png\" style=\"width:50rem;\">\n",
    "<br>\n",
    "<img src= \"img/2024-02-26-16-17-48.png\" style=\"width:50rem;\">\n",
    "<br>\n",
    "<img src= \"img/2024-02-26-16-18-51.png\" style=\"width:50rem;\">\n",
    "<br>\n",
    "<img src= \"img/2024-02-26-16-19-36.png\" style=\"width:50rem;\">\n",
    "<br>\n",
    "<img src= \"img/2024-02-26-16-20-23.png\" style=\"width:50rem;\">\n",
    "<br>\n",
    "<img src= \"img/2024-02-26-16-20-50.png\" style=\"width:50rem;\">\n",
    "<br>\n",
    "<img src= \"img/2024-02-26-16-21-07.png\" style=\"width:50rem;\">"
   ]
  },
  {
   "cell_type": "markdown",
   "metadata": {},
   "source": [
    "#### C1"
   ]
  },
  {
   "cell_type": "markdown",
   "metadata": {},
   "source": [
    "<img src= \"img/2024-02-26-16-08-41.png\" style=\"width:50rem;\">\n",
    "<br>\n",
    "<img src= \"img/2024-02-26-16-09-31.png\" style=\"width:50rem;\">\n",
    "<br>\n",
    "<img src= \"img/2024-02-26-16-10-10.png\" style=\"width:50rem;\">\n",
    "<br>\n",
    "<img src= \"img/2024-02-26-16-10-45.png\" style=\"width:50rem;\">\n",
    "<br>\n",
    "<img src= \"img/2024-02-26-16-11-10.png\" style=\"width:50rem;\">"
   ]
  },
  {
   "cell_type": "markdown",
   "metadata": {},
   "source": [
    "#### C2"
   ]
  },
  {
   "cell_type": "markdown",
   "metadata": {},
   "source": [
    "<img src= \"img/2024-03-14-20-39-42.png\" style=\"width:50rem;\">\n",
    "<br>\n",
    "<img src= \"img/2024-03-14-20-40-15.png\" style=\"width:50rem;\">\n",
    "<br>\n",
    "<img src= \"img/2024-03-14-20-40-28.png\" style=\"width:50rem;\">\n",
    "<br>\n",
    "<img src= \"img/2024-03-14-20-40-48.png\" style=\"width:50rem;\">"
   ]
  },
  {
   "cell_type": "markdown",
   "metadata": {},
   "source": [
    "#### C3"
   ]
  },
  {
   "cell_type": "markdown",
   "metadata": {},
   "source": [
    "## BING COPILOT HISTORY"
   ]
  },
  {
   "cell_type": "markdown",
   "metadata": {},
   "source": [
    "#### BC0"
   ]
  },
  {
   "cell_type": "markdown",
   "metadata": {},
   "source": [
    "<img src= \"img/More%20to%20come...png\" style=\"width:50rem;\">\n",
    "<br>\n",
    "<img src= \"img/2024-02-26-16-24-50.png\" style=\"width:50rem;\">"
   ]
  },
  {
   "cell_type": "markdown",
   "metadata": {},
   "source": [
    "#### BC1"
   ]
  },
  {
   "cell_type": "markdown",
   "metadata": {},
   "source": [
    "<img src= \"img/2024-03-14-20-26-18.png\" style=\"width:50rem;\">\n",
    "<br>\n",
    "<img src= \"img/2024-03-14-20-26-41.png\" style=\"width:50rem;\">\n",
    "<br>\n",
    "<img src= \"img/2024-03-14-20-26-57.png\" style=\"width:50rem;\">\n",
    "<br>\n",
    "<img src= \"img/2024-03-14-20-27-14.png\" style=\"width:50rem;\">\n",
    "<br>\n",
    "<img src= \"img/2024-03-14-20-27-39.png\" style=\"width:50rem;\">\n",
    "<br>\n",
    "<img src= \"img/2024-03-14-20-28-10.png\" style=\"width:50rem;\">\n",
    "<br>\n",
    "<img src= \"img/2024-03-14-20-28-24.png\" style=\"width:50rem;\">\n",
    "<br>\n",
    "<img src= \"img/2024-03-14-20-28-44.png\" style=\"width:50rem;\">\n",
    "<br>\n",
    "<img src= \"img/2024-03-14-20-28-56.png\" style=\"width:50rem;\">\n",
    "<br>\n",
    "<img src= \"img/2024-03-14-20-29-06.png\" style=\"width:50rem;\">\n",
    "<br>\n",
    "<img src= \"img/2024-03-14-20-29-43.png\" style=\"width:50rem;\">\n",
    "<br>\n",
    "<img src= \"img/2024-03-14-20-29-59.png\" style=\"width:50rem;\">\n",
    "<br>\n",
    "<img src= \"img/2024-03-14-20-30-13.png\" style=\"width:50rem;\">\n",
    "<br>\n",
    "<img src= \"img/2024-03-14-20-30-31.png\" style=\"width:50rem;\">\n",
    "<br>\n",
    "<img src= \"img/2024-03-14-20-30-43.png\" style=\"width:50rem;\">\n",
    "<br>\n",
    "<img src= \"img/2024-03-14-20-30-59.png\" style=\"width:50rem;\">\n",
    "<br>\n",
    "<img src= \"img/2024-03-14-20-31-13.png\" style=\"width:50rem;\">\n",
    "<br>\n",
    "<img src= \"img/2024-03-14-20-31-28.png\" style=\"width:50rem;\">\n",
    "<br>\n",
    "<img src= \"img/2024-03-14-20-31-49.png\" style=\"width:50rem;\">\n",
    "<br>\n",
    "<img src= \"img/2024-03-14-20-32-09.png\" style=\"width:50rem;\">\n",
    "<br>\n",
    "<img src= \"img/2024-03-14-20-32-21.png\" style=\"width:50rem;\">\n",
    "<br>\n",
    "<img src= \"img/2024-03-14-20-32-36.png\" style=\"width:50rem;\">\n",
    "<br>\n",
    "<img src= \"img/2024-03-14-20-32-51.png\" style=\"width:50rem;\">\n",
    "<br>\n",
    "<img src= \"img/2024-03-14-20-33-23.png\" style=\"width:50rem;\">\n"
   ]
  },
  {
   "cell_type": "markdown",
   "metadata": {},
   "source": [
    "#### BC2"
   ]
  },
  {
   "cell_type": "markdown",
   "metadata": {},
   "source": [
    "<img src= \"img/2024-03-14-20-41-58.png\" style=\"width:50rem;\">\n",
    "<br>\n",
    "<img src= \"img/2024-03-14-20-42-18.png\" style=\"width:50rem;\">\n",
    "<br>\n",
    "<img src= \"img/2024-03-14-20-42-29.png\" style=\"width:50rem;\">\n",
    "<br>\n",
    "<img src= \"img/2024-03-14-20-42-50.png\" style=\"width:50rem;\">\n",
    "<br>\n",
    "<img src= \"img/2024-03-14-20-43-04.png\" style=\"width:50rem;\">\n",
    "<br>\n",
    "<img src= \"img/2024-03-14-20-43-15.png\" style=\"width:50rem;\">\n",
    "<br>\n",
    "<img src= \"img/2024-03-14-20-43-31.png\" style=\"width:50rem;\">"
   ]
  },
  {
   "cell_type": "markdown",
   "metadata": {},
   "source": [
    "#### BC3"
   ]
  },
  {
   "cell_type": "markdown",
   "metadata": {},
   "source": [
    "<img src= \"img/2024-03-24-13-58-28.png\" style=\"width:50rem;\">\n",
    "<br>\n",
    "<img src= \"img/2024-03-24-13-59-00.png\" style=\"width:50rem;\">\n",
    "<br>\n",
    "<img src= \"img/2024-03-24-13-59-15.png\" style=\"width:50rem;\">\n",
    "<br>\n",
    "<img src= \"img/2024-03-24-13-59-31.png\" style=\"width:50rem;\">\n",
    "<br>\n",
    "<img src= \"img/2024-03-24-13-59-57.png\" style=\"width:50rem;\">\n",
    "<br>\n",
    "<img src= \"img/2024-03-24-14-00-21.png\" style=\"width:50rem;\">\n",
    "<br>\n",
    "<img src= \"img/2024-03-24-14-00-42.png\" style=\"width:50rem;\">\n",
    "<br>\n",
    "<img src= \"img/2024-03-24-14-00-59.png\" style=\"width:50rem;\">\n",
    "<br>\n",
    "<img src= \"img/2024-03-24-14-01-14.png\" style=\"width:50rem;\">"
   ]
  },
  {
   "cell_type": "markdown",
   "metadata": {},
   "source": [
    "#### BC4"
   ]
  },
  {
   "cell_type": "markdown",
   "metadata": {},
   "source": []
  }
 ],
 "metadata": {
  "language_info": {
   "name": "python"
  }
 },
 "nbformat": 4,
 "nbformat_minor": 2
}
