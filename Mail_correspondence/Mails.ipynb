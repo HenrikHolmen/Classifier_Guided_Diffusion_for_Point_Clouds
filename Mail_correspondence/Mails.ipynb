{
 "cells": [
  {
   "cell_type": "markdown",
   "metadata": {},
   "source": [
    "#### Mail Correspondance - listed as earlist mails first"
   ]
  },
  {
   "cell_type": "markdown",
   "metadata": {},
   "source": [
    "##### Johan Ye"
   ]
  },
  {
   "cell_type": "markdown",
   "metadata": {},
   "source": [
    "<img src= \"img/2024-02-13-10-20-01.png\" style=\"width:40rem;\">\n",
    "\n",
    "<br>\n",
    "\n",
    "<img src= \"img/2024-02-13-10-18-50.png\" style=\"width:40rem;\">\n",
    "\n",
    "<br>\n",
    "\n",
    "<img src= \"img/2024-02-13-12-55-34.png\" style=\"width:40rem;\">\n",
    "\n",
    "<br>\n",
    "\n",
    "<img src= \"img/2024-02-13-12-56-10.png\" style=\"width:40rem;\">\n",
    "\n",
    "<br>\n",
    "\n",
    "<img src= \"img/2024-02-13-12-56-35.png\" style=\"width:40rem;\">\n",
    "\n",
    "<br>\n",
    "\n",
    "<img src= \"img/2024-02-13-12-57-06.png\" style=\"width:40rem;\">\n",
    "\n",
    "<br>\n",
    "\n",
    "<img src= \"img/2024-02-13-12-57-28.png\" style=\"width:40rem;\">"
   ]
  },
  {
   "cell_type": "markdown",
   "metadata": {},
   "source": [
    "##### Morten Mørup"
   ]
  },
  {
   "cell_type": "markdown",
   "metadata": {},
   "source": [
    "<img src= \"img/2024-02-20-09-52-11.png\" style=\"width:40rem;\">\n",
    "\n",
    "<br>\n",
    "\n",
    "<img src= \"img/2024-02-20-09-52-38.png\" style=\"width:40rem;\">\n",
    "\n",
    "<br>\n",
    "\n",
    "<img src= \"img/2024-02-20-09-53-36.png\" style=\"width:40rem;\">\n",
    "\n",
    "<br>\n",
    "\n",
    "<img src= \"img/2024-02-20-09-53-53.png\" style=\"width:40rem;\">\n",
    "\n",
    "<br>\n",
    "\n",
    "<img src= \"img/2024-02-23-16-27-09.png\" style=\"width:40rem;\">\n",
    "\n",
    "<br>\n",
    "\n",
    "<img src= \"img/2024-03-13-15-08-59.png\" style=\"width:40rem;\">"
   ]
  },
  {
   "cell_type": "markdown",
   "metadata": {},
   "source": [
    "##### Feedback gruppe"
   ]
  },
  {
   "cell_type": "markdown",
   "metadata": {},
   "source": [
    "<img src= \"img/2024-03-30-11-10-23.png\" style=\"width:50rem;\">\n",
    "<br>\n",
    "<img src= \"img/2024-04-03-11-51-20.png\" style=\"width:50rem;\">\n",
    "<br>\n",
    "<img src= \"img/2024-04-03-11-51-38.png\" style=\"width:50rem;\">\n",
    "<br>\n",
    "<img src= \"img/2024-04-03-11-51-57.png\" style=\"width:50rem;\">\n",
    "<br>\n",
    "<img src= \"img/2024-04-18-11-50-46.png\" style=\"width:20rem;\">\n",
    "<br>\n",
    "<img src= \"img/2024-04-18-11-51-09.png\" style=\"width:20rem;\">"
   ]
  },
  {
   "cell_type": "markdown",
   "metadata": {},
   "source": []
  }
 ],
 "metadata": {
  "language_info": {
   "name": "python"
  }
 },
 "nbformat": 4,
 "nbformat_minor": 2
}
