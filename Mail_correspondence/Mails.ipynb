{
 "cells": [
  {
   "cell_type": "markdown",
   "metadata": {},
   "source": [
    "#### Mail Correspondance - listed as earlist mails first\n",
    "\n",
    "<img src= \"img/2024-02-13-10-20-01.png\" style=\"width:40rem;\">\n",
    "\n",
    "<br>\n",
    "\n",
    "<img src= \"img/2024-02-13-10-18-50.png\" style=\"width:40rem;\">\n",
    "\n",
    "<br>\n",
    "\n",
    "<img src= \"img/2024-02-13-12-55-34.png\" style=\"width:40rem;\">\n",
    "\n",
    "<br>\n",
    "\n",
    "<img src= \"img/2024-02-13-12-56-10.png\" style=\"width:40rem;\">\n",
    "\n",
    "<br>\n",
    "\n",
    "<img src= \"img/2024-02-13-12-56-35.png\" style=\"width:40rem;\">\n",
    "\n",
    "<br>\n",
    "\n",
    "<img src= \"img/2024-02-13-12-57-06.png\" style=\"width:40rem;\">\n",
    "\n",
    "<br>\n",
    "\n",
    "<img src= \"img/2024-02-13-12-57-28.png\" style=\"width:40rem;\">"
   ]
  },
  {
   "cell_type": "markdown",
   "metadata": {},
   "source": []
  }
 ],
 "metadata": {
  "language_info": {
   "name": "python"
  }
 },
 "nbformat": 4,
 "nbformat_minor": 2
}
